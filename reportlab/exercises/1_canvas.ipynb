{
 "cells": [
  {
   "cell_type": "markdown",
   "metadata": {},
   "source": [
    "**Chapter 1 - Getting Started with Reportlab**\n",
    "\n",
    "This chapter covers the following objectives:\n",
    "- Draw text\n",
    "- Learn about fonts and text colors\n",
    "- Creating a text object\n",
    "- Draw lines\n",
    "- Draw various shapes"
   ]
  },
  {
   "cell_type": "code",
   "execution_count": 19,
   "metadata": {},
   "outputs": [],
   "source": [
    "###\n",
    "### The Canvas Object\n",
    "###\n",
    "\n",
    "from reportlab.pdfgen import canvas\n",
    "from reportlab.lib.pagesizes import letter #default page size is A4 - need this import to change size\n",
    "from reportlab.lib.units import inch #gives inch in points\n",
    "from reportlab.lib import pdfencrypt\n",
    "\n",
    "enc = pdfencrypt.StandardEncryption(userPassword='', #providing an owner pass but no user pass means no pass required to open doc, but restrictions apply to everyone\n",
    "                                    ownerPassword='e',\n",
    "                                    canModify=0, #canModify bool is false here - no modifications permitted\n",
    "                                    canAnnotate=0 \n",
    "                                   )\n",
    "\n",
    "c = canvas.Canvas('hello1.pdf',          #need to specify filename to generate a pdf - can be relative or absolute path\n",
    "                  pagesize=letter,\n",
    "                  encrypt=enc\n",
    "                  )\n",
    "page_width, page_height = letter\n",
    "c.drawString(inch,                      #x coord, in points\n",
    "             page_height - inch,        #y coord, in points\n",
    "             'Welcome to ReportLab!')   #drawString \"paints\" text on page\n",
    "c.showPage() #not required but recommended - saves current page of canvas and ends current page (further \"draw\" commands will paint to next page of doc)\n",
    "c.save()\n"
   ]
  }
 ],
 "metadata": {
  "kernelspec": {
   "display_name": "Python 3",
   "language": "python",
   "name": "python3"
  },
  "language_info": {
   "codemirror_mode": {
    "name": "ipython",
    "version": 3
   },
   "file_extension": ".py",
   "mimetype": "text/x-python",
   "name": "python",
   "nbconvert_exporter": "python",
   "pygments_lexer": "ipython3",
   "version": "3.9.5"
  }
 },
 "nbformat": 4,
 "nbformat_minor": 2
}
